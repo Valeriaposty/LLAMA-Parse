{
 "cells": [
  {
   "cell_type": "code",
   "execution_count": 20,
   "metadata": {},
   "outputs": [
    {
     "data": {
      "text/plain": [
       "True"
      ]
     },
     "execution_count": 20,
     "metadata": {},
     "output_type": "execute_result"
    }
   ],
   "source": [
    "# pip install --quiet langchain_experimental langchain_openai\n",
    "from langchain_experimental.text_splitter import SemanticChunker\n",
    "import os\n",
    "from dotenv import load_dotenv\n",
    "\n",
    "load_dotenv()"
   ]
  },
  {
   "cell_type": "code",
   "execution_count": 21,
   "metadata": {},
   "outputs": [],
   "source": [
    "with open(\"../verbale.txt\") as f:\n",
    "    state_of_the_union = f.read()"
   ]
  },
  {
   "cell_type": "markdown",
   "metadata": {},
   "source": [
    "# Embedding"
   ]
  },
  {
   "cell_type": "code",
   "execution_count": 22,
   "metadata": {},
   "outputs": [],
   "source": [
    "# import requests\n",
    "# hf_token = os.getenv(\"HUGGING\")\n",
    "# model_id = \"maidalun1020/bce-embedding-base_v1\"\n",
    "# api_url = f\"https://api-inference.huggingface.co/pipeline/feature-extraction/{model_id}\"\n",
    "# headers = {\"Authorization\": f\"Bearer {hf_token}\"}\n",
    "\n",
    "# def query(texts):\n",
    "#     response = requests.post(api_url, headers=headers, json={\"inputs\": texts, \"options\":{\"wait_for_model\":True}})\n",
    "#     return response.json()\n",
    "\n",
    "# emb = query(state_of_the_union)\n"
   ]
  },
  {
   "cell_type": "code",
   "execution_count": 31,
   "metadata": {},
   "outputs": [],
   "source": [
    "from langchain_openai import AzureOpenAI\n",
    "from langchain_openai import AzureOpenAIEmbeddings\n",
    "\n",
    "model = AzureOpenAIEmbeddings(model=\"text-embedding-ada-002-2\")\n",
    "\n",
    "text_splitter = SemanticChunker(\n",
    "    model, breakpoint_threshold_type=\"percentile\"\n",
    ")\n",
    "\n",
    "docs = text_splitter.create_documents([state_of_the_union])"
   ]
  },
  {
   "cell_type": "code",
   "execution_count": 32,
   "metadata": {},
   "outputs": [
    {
     "name": "stdout",
     "output_type": "stream",
     "text": [
      "Câ€™Ã¨ chi dice che, un buon politico, deve instillare fiducia tramite il suo aspetto e tramite le sue parole: per lâ€™estetica non ti posso aiutare ma di certo posso offrire ottimi spunti su come fare un discorso di successo. Da dove partire dunque? Ovvio: dal tuo messaggio. Quando scrivi un discorso politico devi veicolare un solo e unico messaggio e questo messaggio dovrÃ  essere espresso con chiarezza eliminando ogni possibile obiezione da parte della platea. Ricordi chi câ€™Ã¨ in platea? Ci sono gli indecisi che dovrai convincere: devi riuscire a rimuovere ogni loro possibile obiezione durante il comizio. Come fare?\n"
     ]
    }
   ],
   "source": [
    "print(docs[0].page_content)"
   ]
  },
  {
   "cell_type": "code",
   "execution_count": 33,
   "metadata": {},
   "outputs": [
    {
     "name": "stdout",
     "output_type": "stream",
     "text": [
      "Con la regola delle tre S:\n",
      "\n",
      "semplificare;\n",
      "sintetizzare;\n",
      "sottolineare. Cosa significa semplificare? I comizi lunghi, noiosi e pieni di parole vuote decisamente non funzionano. Abbiamo accennato poco fa al dialogo mentale della platea. Ebbene il linguaggio che usi dovrÃ  essere semplice, chiaro e conciso: niente parole complesse o tecnicismi. Devi parlare in modo da relazionarti con il pubblico. Per farlo dovresti prepararti e conoscere alcune informazioni chiave come:\n",
      "\n",
      "chi Ã¨ il pubblico;\n",
      "cosa si aspetta da te;\n",
      "quali sono le sue preoccupazioni;\n",
      "di cosa ha paura;\n",
      "cosa si aspetta di ottenere. Cosa significa sintetizzare?\n"
     ]
    }
   ],
   "source": [
    "print(docs[1].page_content)"
   ]
  },
  {
   "cell_type": "code",
   "execution_count": 34,
   "metadata": {},
   "outputs": [
    {
     "name": "stdout",
     "output_type": "stream",
     "text": [
      "Le persone vanno di fretta. Un comizio Ã¨ spesso un evento pubblico che prende vita nelle piazze e nelle strade cittadine. Le persone che si fermano ad ascoltare non pagano un biglietto per entrare e se non sentono subito qualcosa che gli interessa se ne vanno via. Questa caratteristica Ã¨ molto importante: dovrai asciugare il tuo discorso affinchÃ© ogni singola frase contenga un concetto importante. In questo modo anche chi passa distratto e ascolta qualche tua parola Ã¨ incentivato a fermarsi e continuare a sentire ciÃ² che hai da dire. Per farlo Ã¨ bene concentrarsi su un massimo di tre tematiche relative al tuo programma elettorale: quelle tre tematiche dovranno rimanere stampate nella mente della platea. Poche idee ma buone.\n"
     ]
    }
   ],
   "source": [
    "print(docs[2].page_content)"
   ]
  },
  {
   "cell_type": "code",
   "execution_count": 35,
   "metadata": {},
   "outputs": [
    {
     "name": "stdout",
     "output_type": "stream",
     "text": [
      "Cosa significa sottolineare? Dovrai imparare a utilizzare al meglio la tua voce e il tuo linguaggio del corpo per sottolineare concetti importanti. Ritmo, pause, tono della voceâ€¦ sono tutti strumenti che devi usare per canalizzare lâ€™attenzione della platea. In gergo tecnico queste si chiamano comunicazioni paraverbali e comunicazioni non verbali e costituiscono una vera arma a tuo vantaggio che persuade chi ti ascolta. Ecco qualche esempio:\n",
      "\n",
      "assumi una postura decisa;\n",
      "guarda le persone negli occhi;\n",
      "utilizza pause studiate per rendere i concetti chiave piÃ¹ incisivi;\n",
      "scandisci in modo ritmato le frasi di arresto.\n"
     ]
    }
   ],
   "source": [
    "print(docs[3].page_content)"
   ]
  },
  {
   "cell_type": "code",
   "execution_count": 24,
   "metadata": {},
   "outputs": [
    {
     "name": "stdout",
     "output_type": "stream",
     "text": [
      "3\n"
     ]
    }
   ],
   "source": [
    "print(len(docs))"
   ]
  }
 ],
 "metadata": {
  "kernelspec": {
   "display_name": ".venv",
   "language": "python",
   "name": "python3"
  },
  "language_info": {
   "codemirror_mode": {
    "name": "ipython",
    "version": 3
   },
   "file_extension": ".py",
   "mimetype": "text/x-python",
   "name": "python",
   "nbconvert_exporter": "python",
   "pygments_lexer": "ipython3",
   "version": "3.10.11"
  }
 },
 "nbformat": 4,
 "nbformat_minor": 2
}
